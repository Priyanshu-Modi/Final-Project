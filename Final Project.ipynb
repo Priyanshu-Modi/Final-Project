{
  "nbformat": 4,
  "nbformat_minor": 0,
  "metadata": {
    "colab": {
      "name": "Project.ipynb",
      "provenance": [],
      "collapsed_sections": []
    },
    "kernelspec": {
      "name": "python3",
      "display_name": "Python 3"
    },
    "language_info": {
      "name": "python"
    }
  },
  "cells": [
    {
      "cell_type": "markdown",
      "source": [
        "## Import Dependencies."
      ],
      "metadata": {
        "id": "6x2huwutRBjc"
      }
    },
    {
      "cell_type": "code",
      "execution_count": null,
      "metadata": {
        "id": "YG5rUOOL3WJM"
      },
      "outputs": [],
      "source": [
        "import pickle\n",
        "import pandas as pd\n",
        "from pip import main"
      ]
    },
    {
      "cell_type": "markdown",
      "source": [
        "# Defining Main Function"
      ],
      "metadata": {
        "id": "fjJrl-FDRJ6v"
      }
    },
    {
      "cell_type": "code",
      "source": [
        "def menu():\n",
        "    print(\"---------------------------------------------------\")\n",
        "    print(\"*****MENU BAR*****\")\n",
        "    print(\"[1] IRIS_dataset\")\n",
        "    print(\"[2] House_Price_Prediction\")\n",
        "    print(\"[3] Credit_Card_Fraud_Detection\")\n",
        "    print(\"[4] Heart_Disease_Prediction\")\n",
        "    print(\"[5] Big_Mart_Sales_Prediction\")\n",
        "    print(\"[6] Customer_Segmentation_using_K_Means_Clustering\")\n",
        "    print(\"[7] Spam_Mail_Prediction_using_Machine_Learning\")\n",
        "    print(\"[0]  EXIT\")\n",
        "    print(\"---------------------------------------------------\")"
      ],
      "metadata": {
        "id": "PQfitc163maW"
      },
      "execution_count": null,
      "outputs": []
    },
    {
      "cell_type": "code",
      "source": [
        "choice=int(input(\"\\nEnter your Choice : \"))\n",
        "while(check(choice)):\n",
        "        if(choice==1):\n",
        "            profit()\n",
        "        elif(choice==2):\n",
        "            heart()\n",
        "        elif(choice==3):\n",
        "            diabetes()\n",
        "        elif(choice==4):\n",
        "            flower()\n",
        "        elif(choice==5):\n",
        "            cancer()\n",
        "        elif(choice==6):\n",
        "            wine()\n",
        "        elif(choice==7):\n",
        "            bike()\n",
        "        elif(choice==0):\n",
        "            print(\"\\nAPPLICATION CLOSED\")\n",
        "            print(\"\\n****THANK YOU FOR YOUR VISIT****\\n\")\n",
        "            exit()\n",
        "\n",
        "# checking for valid choice choosed by user\n",
        "def check(choice):\n",
        "    if(choice >= 0 and choice <= 7):\n",
        "        return True\n",
        "    else:\n",
        "        print(\"\\n******INVALID CHOICE******\\n\")\n",
        "        return False\n",
        "\n"
      ],
      "metadata": {
        "id": "GXAsULOO3mYy"
      },
      "execution_count": null,
      "outputs": []
    },
    {
      "cell_type": "code",
      "source": [
        "# checking for valid choice choosed by user\n",
        "def check(choice):\n",
        "    if(choice >= 0 and choice <= 7):\n",
        "        return True\n",
        "    else:\n",
        "        print(\"\\n******INVALID CHOICE******\\n\")\n",
        "        return False"
      ],
      "metadata": {
        "id": "fqjbI7O93mWW"
      },
      "execution_count": null,
      "outputs": []
    },
    {
      "cell_type": "markdown",
      "source": [
        "\n",
        "# Further it will load all saved model one by one as per asked by user.\n",
        "\n",
        "# Required input paramter for maikg prediction."
      ],
      "metadata": {
        "id": "eEe8BDGq5buj"
      }
    },
    {
      "cell_type": "code",
      "source": [
        "#================IRIS_dataset==========================================="
      ],
      "metadata": {
        "id": "weeAF4Hg6y09"
      },
      "execution_count": null,
      "outputs": []
    },
    {
      "cell_type": "code",
      "source": [
        "def IRIS():\n",
        "    sepal_length=float(input(\"Enter sepal length: \"))\n",
        "    sepal_width=float(input(\"Enter sepal width: \"))\n",
        "    petal_length=float(input(\"Enter petal length: \"))\n",
        "    petal_width=float(input(\"Enter sepal width: \"))\n",
        "    lst=[[sepal_length,sepal_width,petal_length,petal_width]]\n",
        "    with open(\"./SavedModels/model4\",\"rb\") as f:\n",
        "        lr=pickle.load(f)\n",
        "    value=lr.predict(lst)\n",
        "    print(\"Prediction: \",value)\n",
        "    menu()\n",
        "    #==============================================================================="
      ],
      "metadata": {
        "id": "BcrfWvux3mUv"
      },
      "execution_count": null,
      "outputs": []
    },
    {
      "cell_type": "code",
      "source": [
        "#=============================HEART DISEASE PREDICTION============================\n",
        "def heart():\n",
        "    age=int(input(\"Enter Age: \"))\n",
        "\n",
        "    print(\"press[1] for Male, press[0] for Female\")\n",
        "    sex=int(input(\"Enter sex: \"))\n",
        "\n",
        "    print(\"[1] for typical angina,[2] for atypical angina,[3] for non-anginal pain,[4] for asymptomatic\")\n",
        "    cp=int(input(\"Enter chest pain type: \"))\n",
        "\n",
        "    trtbps=int(input(\"Enter resting blood pressure (in mm Hg): \"))\n",
        "\n",
        "    chol=int(input(\"Enter cholestoral in mg/dl fetched via BMI sensor: \"))\n",
        "\n",
        "    fbs=int(input(\"Enter (fasting blood sugar > 120 mg/dl) (1 = true; 0 = false): \"))\n",
        "\n",
        "    print(\"[0] for normal,[1] for having ST-T wave abnormality,[2] for showing probable\")\n",
        "    restecg=int(input(\"Enter resting electrocardiographic results: \"))\n",
        "\n",
        "    thalachh=int(input(\"Enter maximum heart rate achieved: \"))\n",
        "\n",
        "    exng=int(input(\"Enter exercise induced angina (1 = yes; 0 = no): \"))\n",
        "\n",
        "    oldpeak=float(input(\"Enter oldpeak: \"))\n",
        "    slp=int(input(\"Enter slp: \"))\n",
        "\n",
        "    caa=int(input(\"Enter number of major vessels (0-3): \"))\n",
        "\n",
        "    thall=int(input(\"Enter thall: \"))\n",
        "\n",
        "    lst=[[age,sex,cp,trtbps,chol,fbs,restecg,thalachh,exng,oldpeak,slp,caa,thall]]\n",
        "    with open(\"./SavedModels/model2\",\"rb\") as f:\n",
        "        lr=pickle.load(f)\n",
        "    value=lr.predict(lst)\n",
        "    if value==1:\n",
        "        print(\"More chance of heart attack\")\n",
        "    else:\n",
        "        print(\"less chance of heart attack\")\n",
        "    menu()\n",
        "#===================================================================================="
      ],
      "metadata": {
        "id": "UI3zSFEr3mSt"
      },
      "execution_count": null,
      "outputs": []
    },
    {
      "cell_type": "code",
      "source": [
        "#================House_Price_Prediction===========================================\n",
        "def House_Price():\n",
        "    spend1=float(input(\"CRIM : \"))\n",
        "    admr=float(input(\"ZN : \"))\n",
        "    spend2=float(input(\"INDUS : \"))\n",
        "    print(\"press[0] for Actual Prices, press[1] for Predicted Prices, press[2] for Actual Price vs Preicted Price\")\n",
        "    state=int(input(\"Enter State : \"))\n",
        "    test=[[spend1,admr,spend2,state]]\n",
        "\n",
        "    with open(\"/content/House_Price_Prediction.ipynb\",\"rb\") as f:\n",
        "        lr=pickle.load(f)\n",
        "    value=lr.predict(test)\n",
        "    print(\"Prediction: \",value)\n",
        "    menu()\n",
        "#==============================================================================="
      ],
      "metadata": {
        "id": "chqW7-Le3mQz"
      },
      "execution_count": null,
      "outputs": []
    },
    {
      "cell_type": "code",
      "source": [
        "#================Customer_Segmentation_using_K_Means_Clustering===========================================\n",
        "def segmentation():\n",
        "    spend1=float(input(\"CustomerID : \"))\n",
        "    admr=float(input(\"Genre : \"))\n",
        "    spend2=float(input(\"Annual Income (k$) : \"))\n",
        "    print(\"press[0] for Customer Groups, press[1] for Annual Income, press[2] for Spending Score\")\n",
        "    state=int(input(\"Enter State : \"))\n",
        "    test=[[spend1,admr,spend2,state]]\n",
        "    \n",
        "\n",
        "    with open(\"/content/Customer_Segmentation_using_K_Means_Clustering.ipynb\",\"rb\") as f:\n",
        "        lr=pickle.load(f)\n",
        "    value=lr.predict(test)\n",
        "    print(\"Prediction: \",value)\n",
        "    menu()\n",
        "#==============================================================================="
      ],
      "metadata": {
        "id": "AnMqvBoS9myO"
      },
      "execution_count": null,
      "outputs": []
    },
    {
      "cell_type": "code",
      "source": [
        "#================Sales_Prediction===========================================\n",
        "def prediction():\n",
        "    spend1=float(input(\"Item_Fat_Content : \"))\n",
        "    admr=float(input(\"Item_Type : \"))\n",
        "    spend2=float(input(\"Outlet_Size : \"))\n",
        "    print(\"press[0] for Item_Outlet_Sales for Spending Score\")\n",
        "    state=int(input(\"Enter State : \"))\n",
        "    test=[[spend1,admr,spend2,state]]\n",
        "\n",
        "    with open(\"/content/Big_Mart_Sales_Prediction.ipynb\",\"rb\") as f:\n",
        "        lr=pickle.load(f)\n",
        "    value=lr.predict(test)\n",
        "    print(\"Prediction: \",value)\n",
        "    menu()\n",
        "#==============================================================================="
      ],
      "metadata": {
        "id": "Kh2RwZ4a9mwZ"
      },
      "execution_count": null,
      "outputs": []
    },
    {
      "cell_type": "code",
      "source": [
        "#===================Credit_Card_Fraud_Detection==================================================\n",
        "def Fraud():\n",
        "    Time=int(input(\"Enter Time: \"))\n",
        "    V1=int(input(\"Enter v1 score : \"))\n",
        "    v2=int(input(\"Enter workingday( 1 = Yes , 0 = No ): \"))\n",
        "    V3=int(input(\"Enter v1 score : \"))\n",
        "    V25=int(input(\"Enter v1 score : \"))\n",
        "    V26=int(input(\"Enter v1 score : \"))\n",
        "    V27=int(input(\"Enter v1 score : \"))\n",
        "    V28=int(input(\"Enter v1 score : \"))\n",
        "    V1=int(input(\"Enter v1 score : \"))\n",
        "    Amount=int(input(\"Enter Amount of fruad transaction : \"))\n",
        "    print(\"credit card fraud is detected or not\")\n",
        "    print(\"press[0] for Normal Transaction, press[1] for Fradulent Transaction \")\n",
        "\n",
        "    with open(\"/content/Credit_Card_Fraud_Detection.ipynb\",\"rb\") as f:\n",
        "        lr=pickle.load(f)\n",
        "    value=lr.predict(lst)\n",
        "    print(\"prediction: \",value)\n",
        "    menu()\n",
        "#======================================================================================="
      ],
      "metadata": {
        "id": "PzPKn6ni9muJ"
      },
      "execution_count": null,
      "outputs": []
    },
    {
      "cell_type": "code",
      "source": [
        "#===================Spam_Mail_Prediction=================================================\n",
        "def profit():\n",
        "    spend1=float(input(\"Category : \"))\n",
        "    admr=float(input(\"Message : \"))\n",
        "    print(\"press[0] for spam , press[1] for ham\")\n",
        "    state=int(input(\"Enter State : \"))\n",
        "    test=[[spend1,admr,state]]\n",
        "\n",
        "    with open(\"/content/Spam_Mail_Prediction.ipynb\",\"rb\") as f:\n",
        "        lr=pickle.load(f)\n",
        "    value=lr.predict(test)\n",
        "    print(\"Prediction: \",value)\n",
        "    menu()\n",
        "#========================================================================================="
      ],
      "metadata": {
        "id": "ms9rtEvIPiyc"
      },
      "execution_count": null,
      "outputs": []
    },
    {
      "cell_type": "code",
      "source": [
        "#=====================END=========================================\n",
        "if __name__ == \"__main__\":\n",
        "    menu()\n"
      ],
      "metadata": {
        "id": "Rfgl2tl3PXj8"
      },
      "execution_count": null,
      "outputs": []
    }
  ]
}